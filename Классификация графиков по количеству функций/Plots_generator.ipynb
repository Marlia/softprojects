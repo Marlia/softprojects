{
 "cells": [
  {
   "cell_type": "code",
   "execution_count": null,
   "id": "49b81b4b",
   "metadata": {},
   "outputs": [],
   "source": [
    "#Создание обучающего датасета (Графики 2-х - 7-ми функций)\n"
   ]
  },
  {
   "cell_type": "code",
   "execution_count": null,
   "id": "94283ce2",
   "metadata": {},
   "outputs": [],
   "source": [
    "#Библиотеки для создание датасета\n",
    "import matplotlib.pyplot as plt\n",
    "import numpy as np\n",
    "import random\n",
    "#Библиотеки для работы с директориями\n",
    "import shutil\n",
    "import os"
   ]
  },
  {
   "cell_type": "code",
   "execution_count": null,
   "id": "55b3c351",
   "metadata": {},
   "outputs": [],
   "source": [
    "#Создание директорий, в которые будут сохранятся графики. Такой подход позволит разметить данные более удобным способом.\n",
    "dir_name = \"train\"\n",
    "if os.path.exists(dir_name):\n",
    "    shutil.rmtree(dir_name)\n",
    "os.makedirs(dir_name)\n",
    "for i in range(2,8):\n",
    "    os.makedirs(os.path.join(dir_name, f\"{i}f_plots\"))"
   ]
  },
  {
   "cell_type": "code",
   "execution_count": null,
   "id": "71801c0c",
   "metadata": {},
   "outputs": [],
   "source": [
    "# Создание датасета для обучения модели. В файле \"CNN_for_plots\" этот датасет будет...\n",
    "# ...загружен и автоматически размечен с помощью keras.preprocessing.image.ImageDataGenerator\n",
    "X = np.arange(0,41)\n",
    "for p in range(2, 8):\n",
    "\n",
    "    for z in range(500):\n",
    "        fig = plt.figure(figsize=(2,2),dpi=40)\n",
    "        axes  = fig.add_axes([0,0,1,1])\n",
    "    \n",
    "        for i in range(0, p):\n",
    "            i = (X*random.uniform(0.1,20))**2 \n",
    "            plt.plot(X, i)\n",
    "    \n",
    "        fig.savefig(f\"train/{p}f_plots/{z}.png\")"
   ]
  }
 ],
 "metadata": {
  "kernelspec": {
   "display_name": "Python 3 (ipykernel)",
   "language": "python",
   "name": "python3"
  },
  "language_info": {
   "codemirror_mode": {
    "name": "ipython",
    "version": 3
   },
   "file_extension": ".py",
   "mimetype": "text/x-python",
   "name": "python",
   "nbconvert_exporter": "python",
   "pygments_lexer": "ipython3",
   "version": "3.9.12"
  }
 },
 "nbformat": 4,
 "nbformat_minor": 5
}
